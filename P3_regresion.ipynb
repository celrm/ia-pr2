{
 "cells": [
  {
   "cell_type": "markdown",
   "metadata": {},
   "source": [
    "# Práctica 2: Aprendizaje automático\n",
    "\n",
    "__Fecha de entrega: 16 de mayo de 2021__\n",
    "\n",
    "El objetivo de esta práctica es aplicar los distintos algoritmos de aprendizaje automático disponibles en la scikit-learn [sklearn](https://scikit-learn.org/stable/) sobre varios conjuntos de datos y aprender a interpretar los resultados obtenidos. La práctica consta de 3 notebooks que se entregarán simultáneamente en la tarea de entrega habilitada en el Campus  Virtual.\n",
    "\n",
    "Lo más importante en esta práctica no es el código Python, sino el análisis de los datos y modelos que construyas y las explicaciones razonadas de cada una de las decisiones que tomes. __No se valorarán trozos de código o gráficas sin ningún tipo de contexto o explicación__.\n",
    "\n",
    "Finalmente, recuerda establecer el parámetro `random_state` en todas las funciones que tomen decisiones aleatorias para que los resultados sean reproducibles (los resultados no varíen entre ejecuciones)."
   ]
  },
  {
   "cell_type": "markdown",
   "metadata": {},
   "source": [
    "# Parte 3: Regresión"
   ]
  },
  {
   "cell_type": "markdown",
   "metadata": {},
   "source": [
    "__Número de grupo: 1__\n",
    "\n",
    "__Nombres de los estudiantes: María Arranz y Celia Rubio__"
   ]
  },
  {
   "cell_type": "markdown",
   "metadata": {},
   "source": [
    "En este notebook trabajaremos con una colección de datos de alquileres de Airbnb en Amsterdam. El objetivo de este problema es entrenar una red neuronal capaz de predecir el precio del alojamiento a partir de un conjunto de características."
   ]
  },
  {
   "cell_type": "markdown",
   "metadata": {},
   "source": [
    "## 1) Descripción de los datos\n",
    "\n",
    "Carga el fichero de datos `airbnb.csv` en un dataframe. Describe el conjunto de datos y trata de interpretar el significado de cada una de las variables. Estudia la distribución de precios."
   ]
  },
  {
   "cell_type": "code",
   "execution_count": 1,
   "metadata": {
    "scrolled": true
   },
   "outputs": [
    {
     "data": {
      "text/html": [
       "<div>\n",
       "<style scoped>\n",
       "    .dataframe tbody tr th:only-of-type {\n",
       "        vertical-align: middle;\n",
       "    }\n",
       "\n",
       "    .dataframe tbody tr th {\n",
       "        vertical-align: top;\n",
       "    }\n",
       "\n",
       "    .dataframe thead th {\n",
       "        text-align: right;\n",
       "    }\n",
       "</style>\n",
       "<table border=\"1\" class=\"dataframe\">\n",
       "  <thead>\n",
       "    <tr style=\"text-align: right;\">\n",
       "      <th></th>\n",
       "      <th>accommodates</th>\n",
       "      <th>bathrooms</th>\n",
       "      <th>bedrooms</th>\n",
       "      <th>guests_included</th>\n",
       "      <th>host_listings_count</th>\n",
       "      <th>latitude</th>\n",
       "      <th>longitude</th>\n",
       "      <th>minimum_nights</th>\n",
       "      <th>number_of_reviews</th>\n",
       "      <th>distance_centre</th>\n",
       "      <th>instant_bookable</th>\n",
       "      <th>entire_home</th>\n",
       "      <th>private_room</th>\n",
       "      <th>shared_room</th>\n",
       "      <th>price</th>\n",
       "    </tr>\n",
       "  </thead>\n",
       "  <tbody>\n",
       "    <tr>\n",
       "      <th>count</th>\n",
       "      <td>14998.000000</td>\n",
       "      <td>14998.000000</td>\n",
       "      <td>14998.000000</td>\n",
       "      <td>14998.000000</td>\n",
       "      <td>14998.000000</td>\n",
       "      <td>14998.000000</td>\n",
       "      <td>14998.000000</td>\n",
       "      <td>14998.000000</td>\n",
       "      <td>14998.000000</td>\n",
       "      <td>14998.000000</td>\n",
       "      <td>14998.000000</td>\n",
       "      <td>14998.000000</td>\n",
       "      <td>14998.000000</td>\n",
       "      <td>14998.000000</td>\n",
       "      <td>14998.000000</td>\n",
       "    </tr>\n",
       "    <tr>\n",
       "      <th>mean</th>\n",
       "      <td>2.880317</td>\n",
       "      <td>1.116215</td>\n",
       "      <td>1.390919</td>\n",
       "      <td>1.499333</td>\n",
       "      <td>3.372316</td>\n",
       "      <td>52.365312</td>\n",
       "      <td>4.889033</td>\n",
       "      <td>2.885051</td>\n",
       "      <td>17.797440</td>\n",
       "      <td>2.998582</td>\n",
       "      <td>0.155954</td>\n",
       "      <td>0.777170</td>\n",
       "      <td>0.218562</td>\n",
       "      <td>0.004267</td>\n",
       "      <td>130.050273</td>\n",
       "    </tr>\n",
       "    <tr>\n",
       "      <th>std</th>\n",
       "      <td>1.298492</td>\n",
       "      <td>0.343442</td>\n",
       "      <td>0.839649</td>\n",
       "      <td>0.940643</td>\n",
       "      <td>11.203593</td>\n",
       "      <td>0.015765</td>\n",
       "      <td>0.035010</td>\n",
       "      <td>7.252271</td>\n",
       "      <td>34.766613</td>\n",
       "      <td>1.610995</td>\n",
       "      <td>0.362824</td>\n",
       "      <td>0.416159</td>\n",
       "      <td>0.413285</td>\n",
       "      <td>0.065187</td>\n",
       "      <td>63.820328</td>\n",
       "    </tr>\n",
       "    <tr>\n",
       "      <th>min</th>\n",
       "      <td>1.000000</td>\n",
       "      <td>0.000000</td>\n",
       "      <td>0.000000</td>\n",
       "      <td>1.000000</td>\n",
       "      <td>0.000000</td>\n",
       "      <td>52.290308</td>\n",
       "      <td>4.753513</td>\n",
       "      <td>1.000000</td>\n",
       "      <td>0.000000</td>\n",
       "      <td>0.115801</td>\n",
       "      <td>0.000000</td>\n",
       "      <td>0.000000</td>\n",
       "      <td>0.000000</td>\n",
       "      <td>0.000000</td>\n",
       "      <td>19.000000</td>\n",
       "    </tr>\n",
       "    <tr>\n",
       "      <th>25%</th>\n",
       "      <td>2.000000</td>\n",
       "      <td>1.000000</td>\n",
       "      <td>1.000000</td>\n",
       "      <td>1.000000</td>\n",
       "      <td>1.000000</td>\n",
       "      <td>52.355582</td>\n",
       "      <td>4.864839</td>\n",
       "      <td>2.000000</td>\n",
       "      <td>2.000000</td>\n",
       "      <td>1.948924</td>\n",
       "      <td>0.000000</td>\n",
       "      <td>1.000000</td>\n",
       "      <td>0.000000</td>\n",
       "      <td>0.000000</td>\n",
       "      <td>89.000000</td>\n",
       "    </tr>\n",
       "    <tr>\n",
       "      <th>50%</th>\n",
       "      <td>2.000000</td>\n",
       "      <td>1.000000</td>\n",
       "      <td>1.000000</td>\n",
       "      <td>1.000000</td>\n",
       "      <td>1.000000</td>\n",
       "      <td>52.364960</td>\n",
       "      <td>4.886370</td>\n",
       "      <td>2.000000</td>\n",
       "      <td>7.000000</td>\n",
       "      <td>2.841338</td>\n",
       "      <td>0.000000</td>\n",
       "      <td>1.000000</td>\n",
       "      <td>0.000000</td>\n",
       "      <td>0.000000</td>\n",
       "      <td>115.000000</td>\n",
       "    </tr>\n",
       "    <tr>\n",
       "      <th>75%</th>\n",
       "      <td>4.000000</td>\n",
       "      <td>1.000000</td>\n",
       "      <td>2.000000</td>\n",
       "      <td>2.000000</td>\n",
       "      <td>1.000000</td>\n",
       "      <td>52.374805</td>\n",
       "      <td>4.907953</td>\n",
       "      <td>3.000000</td>\n",
       "      <td>18.000000</td>\n",
       "      <td>3.577086</td>\n",
       "      <td>0.000000</td>\n",
       "      <td>1.000000</td>\n",
       "      <td>0.000000</td>\n",
       "      <td>0.000000</td>\n",
       "      <td>150.000000</td>\n",
       "    </tr>\n",
       "    <tr>\n",
       "      <th>max</th>\n",
       "      <td>17.000000</td>\n",
       "      <td>8.000000</td>\n",
       "      <td>10.000000</td>\n",
       "      <td>16.000000</td>\n",
       "      <td>106.000000</td>\n",
       "      <td>52.426224</td>\n",
       "      <td>5.027689</td>\n",
       "      <td>523.000000</td>\n",
       "      <td>496.000000</td>\n",
       "      <td>11.842162</td>\n",
       "      <td>1.000000</td>\n",
       "      <td>1.000000</td>\n",
       "      <td>1.000000</td>\n",
       "      <td>1.000000</td>\n",
       "      <td>440.000000</td>\n",
       "    </tr>\n",
       "  </tbody>\n",
       "</table>\n",
       "</div>"
      ],
      "text/plain": [
       "       accommodates     bathrooms      bedrooms  guests_included  \\\n",
       "count  14998.000000  14998.000000  14998.000000     14998.000000   \n",
       "mean       2.880317      1.116215      1.390919         1.499333   \n",
       "std        1.298492      0.343442      0.839649         0.940643   \n",
       "min        1.000000      0.000000      0.000000         1.000000   \n",
       "25%        2.000000      1.000000      1.000000         1.000000   \n",
       "50%        2.000000      1.000000      1.000000         1.000000   \n",
       "75%        4.000000      1.000000      2.000000         2.000000   \n",
       "max       17.000000      8.000000     10.000000        16.000000   \n",
       "\n",
       "       host_listings_count      latitude     longitude  minimum_nights  \\\n",
       "count         14998.000000  14998.000000  14998.000000    14998.000000   \n",
       "mean              3.372316     52.365312      4.889033        2.885051   \n",
       "std              11.203593      0.015765      0.035010        7.252271   \n",
       "min               0.000000     52.290308      4.753513        1.000000   \n",
       "25%               1.000000     52.355582      4.864839        2.000000   \n",
       "50%               1.000000     52.364960      4.886370        2.000000   \n",
       "75%               1.000000     52.374805      4.907953        3.000000   \n",
       "max             106.000000     52.426224      5.027689      523.000000   \n",
       "\n",
       "       number_of_reviews  distance_centre  instant_bookable   entire_home  \\\n",
       "count       14998.000000     14998.000000      14998.000000  14998.000000   \n",
       "mean           17.797440         2.998582          0.155954      0.777170   \n",
       "std            34.766613         1.610995          0.362824      0.416159   \n",
       "min             0.000000         0.115801          0.000000      0.000000   \n",
       "25%             2.000000         1.948924          0.000000      1.000000   \n",
       "50%             7.000000         2.841338          0.000000      1.000000   \n",
       "75%            18.000000         3.577086          0.000000      1.000000   \n",
       "max           496.000000        11.842162          1.000000      1.000000   \n",
       "\n",
       "       private_room   shared_room         price  \n",
       "count  14998.000000  14998.000000  14998.000000  \n",
       "mean       0.218562      0.004267    130.050273  \n",
       "std        0.413285      0.065187     63.820328  \n",
       "min        0.000000      0.000000     19.000000  \n",
       "25%        0.000000      0.000000     89.000000  \n",
       "50%        0.000000      0.000000    115.000000  \n",
       "75%        0.000000      0.000000    150.000000  \n",
       "max        1.000000      1.000000    440.000000  "
      ]
     },
     "execution_count": 1,
     "metadata": {},
     "output_type": "execute_result"
    }
   ],
   "source": [
    "import pandas as pd\n",
    "filename = './airbnb.csv'\n",
    "df = pd.read_csv(filename)\n",
    "df.describe()"
   ]
  },
  {
   "cell_type": "markdown",
   "metadata": {},
   "source": [
    "El conjunto de datos está constituido por 14998 alojamientos de los que se dispone de las siguientes métricas:\n",
    "\n",
    "\n",
    "- accommodates : el número de huéspedes que puede alojar la propiedad\n",
    "- bathrooms : número de baños\n",
    "- bedrooms : número de dormitorios\n",
    "- guests_included : número de reservas distintas que puede alojar en un mismo momento\n",
    "- host_listings_count : número de alojamientos que tiene el propietario en la plataforma \n",
    "- latitude : latitud (ubicación)\n",
    "- longitude : longitud (ubicación)\n",
    "- minimum_nights : mínimo número de noches que se pueden reservar\n",
    "- number_of_reviews : número de valoraciones\n",
    "- distance_centre : distancia al centro de la ciudad\n",
    "- instant_bookable : posibilidad de reserva instantánea\n",
    "- entire_home : el alojamiento constituye la totalidad de la casa\n",
    "- private_room : el alojamiento es en una habitación privada\n",
    "- shared_room : el alojamiento es en una habitación compartida\n",
    "- price : precio por noche"
   ]
  },
  {
   "cell_type": "code",
   "execution_count": 2,
   "metadata": {},
   "outputs": [
    {
     "data": {
      "text/plain": [
       "count    14998.000000\n",
       "mean       130.050273\n",
       "std         63.820328\n",
       "min         19.000000\n",
       "25%         89.000000\n",
       "50%        115.000000\n",
       "75%        150.000000\n",
       "max        440.000000\n",
       "Name: price, dtype: float64"
      ]
     },
     "execution_count": 2,
     "metadata": {},
     "output_type": "execute_result"
    }
   ],
   "source": [
    "df['price'].describe()"
   ]
  },
  {
   "cell_type": "code",
   "execution_count": 3,
   "metadata": {
    "scrolled": true
   },
   "outputs": [
    {
     "data": {
      "text/plain": [
       "<AxesSubplot:ylabel='Density'>"
      ]
     },
     "execution_count": 3,
     "metadata": {},
     "output_type": "execute_result"
    },
    {
     "data": {
      "image/png": "[encoded data removed]",
      "text/plain": [
       "<Figure size 432x288 with 1 Axes>"
      ]
     },
     "metadata": {
      "needs_background": "light"
     },
     "output_type": "display_data"
    }
   ],
   "source": [
    "# Distribución de precios\n",
    "df['price'].plot.density()"
   ]
  },
  {
   "cell_type": "code",
   "execution_count": 4,
   "metadata": {
    "scrolled": true
   },
   "outputs": [
    {
     "data": {
      "text/plain": [
       "<AxesSubplot:>"
      ]
     },
     "execution_count": 4,
     "metadata": {},
     "output_type": "execute_result"
    },
    {
     "data": {
      "image/png": "[encoded data removed]",
      "text/plain": [
       "<Figure size 432x288 with 1 Axes>"
      ]
     },
     "metadata": {
      "needs_background": "light"
     },
     "output_type": "display_data"
    }
   ],
   "source": [
    "df['price'].hist()"
   ]
  },
  {
   "cell_type": "markdown",
   "metadata": {},
   "source": [
    "#### Se observa que la mayoría de los alojamientos se concentran en torno a los 100 euros por noche y el número de alojamientos con un precio mayor va disminuyendo rapidamente. El 75% de los alojamientos tienen un precio menor o igual que 150 euros, mucho más cerca de el precio medio (130) que del máximo (440)."
   ]
  },
  {
   "cell_type": "markdown",
   "metadata": {},
   "source": [
    "## 2) Selección de variables\n",
    "\n",
    "Calcula los coeficientes de correlación de Pearson entre la variable de salida y el resto de variables. Crea un nuevo dataframe que contenga el precio y, además, las variables que estén relacionadas con él por un valor de correlacción de al menos 0.2 (de forma directa o inversa)."
   ]
  },
  {
   "cell_type": "code",
   "execution_count": 5,
   "metadata": {},
   "outputs": [
    {
     "data": {
      "text/plain": [
       "accommodates           0.552183\n",
       "bathrooms              0.283759\n",
       "bedrooms               0.517237\n",
       "guests_included        0.338739\n",
       "host_listings_count    0.109141\n",
       "latitude               0.027922\n",
       "longitude              0.035887\n",
       "minimum_nights         0.007708\n",
       "number_of_reviews     -0.088437\n",
       "distance_centre       -0.204698\n",
       "instant_bookable      -0.004410\n",
       "entire_home            0.361313\n",
       "private_room          -0.357184\n",
       "shared_room           -0.042109\n",
       "price                  1.000000\n",
       "Name: price, dtype: float64"
      ]
     },
     "execution_count": 5,
     "metadata": {},
     "output_type": "execute_result"
    }
   ],
   "source": [
    "#calcular coefs correlacion de Pearson entre price y resto de varibles\n",
    "df.corr(method='pearson')['price']"
   ]
  },
  {
   "cell_type": "markdown",
   "metadata": {},
   "source": [
    "##### Por lo tanto incluimos: accomodates, bathrooms, bedrooms, guests_included, distance_centre, entire_home, private_room en el nuevo dataframe"
   ]
  },
  {
   "cell_type": "code",
   "execution_count": 6,
   "metadata": {},
   "outputs": [
    {
     "data": {
      "text/html": [
       "<div>\n",
       "<style scoped>\n",
       "    .dataframe tbody tr th:only-of-type {\n",
       "        vertical-align: middle;\n",
       "    }\n",
       "\n",
       "    .dataframe tbody tr th {\n",
       "        vertical-align: top;\n",
       "    }\n",
       "\n",
       "    .dataframe thead th {\n",
       "        text-align: right;\n",
       "    }\n",
       "</style>\n",
       "<table border=\"1\" class=\"dataframe\">\n",
       "  <thead>\n",
       "    <tr style=\"text-align: right;\">\n",
       "      <th></th>\n",
       "      <th>price</th>\n",
       "      <th>accommodates</th>\n",
       "      <th>bathrooms</th>\n",
       "      <th>bedrooms</th>\n",
       "      <th>guests_included</th>\n",
       "      <th>distance_centre</th>\n",
       "      <th>entire_home</th>\n",
       "      <th>private_room</th>\n",
       "    </tr>\n",
       "  </thead>\n",
       "  <tbody>\n",
       "    <tr>\n",
       "      <th>count</th>\n",
       "      <td>14998.000000</td>\n",
       "      <td>14998.000000</td>\n",
       "      <td>14998.000000</td>\n",
       "      <td>14998.000000</td>\n",
       "      <td>14998.000000</td>\n",
       "      <td>14998.000000</td>\n",
       "      <td>14998.000000</td>\n",
       "      <td>14998.000000</td>\n",
       "    </tr>\n",
       "    <tr>\n",
       "      <th>mean</th>\n",
       "      <td>130.050273</td>\n",
       "      <td>2.880317</td>\n",
       "      <td>1.116215</td>\n",
       "      <td>1.390919</td>\n",
       "      <td>1.499333</td>\n",
       "      <td>2.998582</td>\n",
       "      <td>0.777170</td>\n",
       "      <td>0.218562</td>\n",
       "    </tr>\n",
       "    <tr>\n",
       "      <th>std</th>\n",
       "      <td>63.820328</td>\n",
       "      <td>1.298492</td>\n",
       "      <td>0.343442</td>\n",
       "      <td>0.839649</td>\n",
       "      <td>0.940643</td>\n",
       "      <td>1.610995</td>\n",
       "      <td>0.416159</td>\n",
       "      <td>0.413285</td>\n",
       "    </tr>\n",
       "    <tr>\n",
       "      <th>min</th>\n",
       "      <td>19.000000</td>\n",
       "      <td>1.000000</td>\n",
       "      <td>0.000000</td>\n",
       "      <td>0.000000</td>\n",
       "      <td>1.000000</td>\n",
       "      <td>0.115801</td>\n",
       "      <td>0.000000</td>\n",
       "      <td>0.000000</td>\n",
       "    </tr>\n",
       "    <tr>\n",
       "      <th>25%</th>\n",
       "      <td>89.000000</td>\n",
       "      <td>2.000000</td>\n",
       "      <td>1.000000</td>\n",
       "      <td>1.000000</td>\n",
       "      <td>1.000000</td>\n",
       "      <td>1.948924</td>\n",
       "      <td>1.000000</td>\n",
       "      <td>0.000000</td>\n",
       "    </tr>\n",
       "    <tr>\n",
       "      <th>50%</th>\n",
       "      <td>115.000000</td>\n",
       "      <td>2.000000</td>\n",
       "      <td>1.000000</td>\n",
       "      <td>1.000000</td>\n",
       "      <td>1.000000</td>\n",
       "      <td>2.841338</td>\n",
       "      <td>1.000000</td>\n",
       "      <td>0.000000</td>\n",
       "    </tr>\n",
       "    <tr>\n",
       "      <th>75%</th>\n",
       "      <td>150.000000</td>\n",
       "      <td>4.000000</td>\n",
       "      <td>1.000000</td>\n",
       "      <td>2.000000</td>\n",
       "      <td>2.000000</td>\n",
       "      <td>3.577086</td>\n",
       "      <td>1.000000</td>\n",
       "      <td>0.000000</td>\n",
       "    </tr>\n",
       "    <tr>\n",
       "      <th>max</th>\n",
       "      <td>440.000000</td>\n",
       "      <td>17.000000</td>\n",
       "      <td>8.000000</td>\n",
       "      <td>10.000000</td>\n",
       "      <td>16.000000</td>\n",
       "      <td>11.842162</td>\n",
       "      <td>1.000000</td>\n",
       "      <td>1.000000</td>\n",
       "    </tr>\n",
       "  </tbody>\n",
       "</table>\n",
       "</div>"
      ],
      "text/plain": [
       "              price  accommodates     bathrooms      bedrooms  \\\n",
       "count  14998.000000  14998.000000  14998.000000  14998.000000   \n",
       "mean     130.050273      2.880317      1.116215      1.390919   \n",
       "std       63.820328      1.298492      0.343442      0.839649   \n",
       "min       19.000000      1.000000      0.000000      0.000000   \n",
       "25%       89.000000      2.000000      1.000000      1.000000   \n",
       "50%      115.000000      2.000000      1.000000      1.000000   \n",
       "75%      150.000000      4.000000      1.000000      2.000000   \n",
       "max      440.000000     17.000000      8.000000     10.000000   \n",
       "\n",
       "       guests_included  distance_centre   entire_home  private_room  \n",
       "count     14998.000000     14998.000000  14998.000000  14998.000000  \n",
       "mean          1.499333         2.998582      0.777170      0.218562  \n",
       "std           0.940643         1.610995      0.416159      0.413285  \n",
       "min           1.000000         0.115801      0.000000      0.000000  \n",
       "25%           1.000000         1.948924      1.000000      0.000000  \n",
       "50%           1.000000         2.841338      1.000000      0.000000  \n",
       "75%           2.000000         3.577086      1.000000      0.000000  \n",
       "max          16.000000        11.842162      1.000000      1.000000  "
      ]
     },
     "execution_count": 6,
     "metadata": {},
     "output_type": "execute_result"
    }
   ],
   "source": [
    "variables = ['price','accommodates','bathrooms','bedrooms','guests_included','distance_centre','entire_home','private_room']\n",
    "df2 = df.loc[:,variables]\n",
    "df2.describe()"
   ]
  },
  {
   "cell_type": "markdown",
   "metadata": {},
   "source": [
    "## 3) Normalización\n",
    "\n",
    "Decide si debes o no normalizar los datos. En caso afirmativo elige razonadamente entre escalarlos o estandarizarlos.\n",
    "\n",
    "Si decides escalar los datos deberás crear dos `scalers` distintos, uno para el array con la descripción de los pisos y otro para el array con el precio. Lo hacemos de este modo porque así podremos desescalar las predicciones más fácilmente."
   ]
  },
  {
   "cell_type": "markdown",
   "metadata": {},
   "source": [
    "#### Es adecuado reescalar los datos ya que son muy heterogeneos en la escalas en las que se miden. Por ejemplo, el precio tiene una media de 130 euros, mientras private_home es binaria."
   ]
  },
  {
   "cell_type": "code",
   "execution_count": 7,
   "metadata": {},
   "outputs": [],
   "source": [
    "from sklearn.preprocessing import MinMaxScaler\n",
    "scalerDesc = MinMaxScaler()\n",
    "scalerPrice = MinMaxScaler()\n",
    "dfDesc = df2.loc[:,['accommodates','bathrooms','bedrooms','guests_included','distance_centre','entire_home','private_room']]\n",
    "dfPrice = df2.loc[:,['price']]\n",
    "scalerDesc.fit(dfDesc.values)\n",
    "desc_scaled = scalerDesc.transform(dfDesc.values)\n",
    "scalerPrice.fit(dfPrice.values.reshape(-1, 1))\n",
    "price_scaled = scalerPrice.transform(dfPrice.values.reshape(-1, 1))"
   ]
  },
  {
   "cell_type": "markdown",
   "metadata": {},
   "source": [
    "## 4) Entrenamiento y selección\n",
    "\n",
    "Crea dos redes neuronales de tipo Perceptrón Multicapa:\n",
    "- La primera con una capa oculta de 200 neuronas\n",
    "- La segunda con dos capas ocultas cada una de 100 neuronas\n",
    "\n",
    "Pinta la curva de aprendizaje para cada red variando el parámetro `alpha` que controla el coeficiente de regularización L2 y determina el valor óptimo usando validación cruzada. Asegúrate de que no salen warnings indicando que no se ha alcanzado la convergencia durante el entrenamiento (basta con poner un número de max_iter suficientemente grande).\n",
    "\n",
    "¿Alguna de las dos redes domina a la otra? ¿Por qué crees que se producen las diferencias?"
   ]
  },
  {
   "cell_type": "code",
   "execution_count": 8,
   "metadata": {},
   "outputs": [],
   "source": [
    "RANDOM_STATE=333"
   ]
  },
  {
   "cell_type": "code",
   "execution_count": 9,
   "metadata": {},
   "outputs": [
    {
     "data": {
      "text/plain": [
       "([-0.012678058326870712,\n",
       "  -0.012226656573093372,\n",
       "  -0.012274867316486719,\n",
       "  -0.012250040777821141,\n",
       "  -0.012243364484804887,\n",
       "  -0.012228302978063621,\n",
       "  -0.012233977052536886,\n",
       "  -0.012231951114801038,\n",
       "  -0.01224752961346284],\n",
       " [0.00039664192090939956,\n",
       "  0.0002739886670630574,\n",
       "  0.00020223707355082875,\n",
       "  0.00020722075014518768,\n",
       "  0.0002049348239465796,\n",
       "  0.00021794733926554057,\n",
       "  0.00020729995733009357,\n",
       "  0.00020897420044105295,\n",
       "  0.000205468916631938])"
      ]
     },
     "execution_count": 9,
     "metadata": {},
     "output_type": "execute_result"
    }
   ],
   "source": [
    "from sklearn.neural_network import MLPRegressor\n",
    "from sklearn.model_selection import cross_val_score\n",
    "from sklearn.metrics import mean_squared_error\n",
    "import numpy as np\n",
    "\n",
    "cv_scores_mean1=[]\n",
    "cv_scores_std1=[]\n",
    "\n",
    "# Entrenar y validar distintas configuraciones\n",
    "regul_param_range = 10.0 ** -np.arange(1, 10) # [0.1, 0.01, ..., 0.0000001]\n",
    "for regul_param in regul_param_range:\n",
    "    # Aumentamos el parámetro max_iter hasta que converja\n",
    "    mlp=MLPRegressor(hidden_layer_sizes=(200, ), activation='relu', solver='adam', alpha=regul_param, batch_size=100, \n",
    "             learning_rate='constant', learning_rate_init=0.001, max_iter=500, random_state=RANDOM_STATE)\n",
    "    \n",
    "    # El error es neg_mean_squared_error el MSE en negativo!! Más pequeño peor.\n",
    "    scores = cross_val_score(mlp, desc_scaled, price_scaled.ravel(), cv=5, scoring='neg_mean_squared_error')\n",
    "    \n",
    "    cv_scores_mean1.append(scores.mean())\n",
    "    cv_scores_std1.append(scores.std())\n",
    "\n",
    "cv_scores_mean1, cv_scores_std1"
   ]
  },
  {
   "cell_type": "code",
   "execution_count": 10,
   "metadata": {},
   "outputs": [
    {
     "data": {
      "image/png": "[encoded data removed]",
      "text/plain": [
       "<Figure size 432x288 with 1 Axes>"
      ]
     },
     "metadata": {
      "needs_background": "light"
     },
     "output_type": "display_data"
    }
   ],
   "source": [
    "import matplotlib.pyplot as plt\n",
    "\n",
    "# Dibujamos la línea de la exactitud media en las partes de test\n",
    "plt.plot(np.log10(regul_param_range), cv_scores_mean1, color=\"g\", label=\"Test1\")\n",
    "\n",
    "# Dibujamos la banda de la desviación típica\n",
    "lower_limit = np.array(cv_scores_mean1) - np.array(cv_scores_std1)\n",
    "upper_limit = np.array(cv_scores_mean1) + np.array(cv_scores_std1)\n",
    "plt.fill_between(np.log10(regul_param_range), lower_limit, upper_limit, color=\"#DDDDDD\")\n",
    "\n",
    "# Creamos el gráfico\n",
    "plt.title(\"Curva de aprendizaje\")\n",
    "plt.xlabel(\"Regularización 10^{-X}\"), plt.ylabel(\"negative MSE\"), plt.legend(loc=\"best\")\n",
    "plt.tight_layout()\n",
    "plt.show()"
   ]
  },
  {
   "cell_type": "code",
   "execution_count": 11,
   "metadata": {},
   "outputs": [
    {
     "data": {
      "text/plain": [
       "([-0.012723697054611308,\n",
       "  -0.011979667476459645,\n",
       "  -0.011740184971338063,\n",
       "  -0.011704574246138705,\n",
       "  -0.011694373017149111,\n",
       "  -0.01175465244045318,\n",
       "  -0.0117560523881583,\n",
       "  -0.011737572944894536,\n",
       "  -0.011744357097901465],\n",
       " [0.0003885895981672945,\n",
       "  0.0003546605235645444,\n",
       "  0.0004269019094578842,\n",
       "  0.0004430868314513379,\n",
       "  0.0004360268404662567,\n",
       "  0.00045943793468267093,\n",
       "  0.0004737152604121641,\n",
       "  0.00046431412446062606,\n",
       "  0.0004591725044893365])"
      ]
     },
     "execution_count": 11,
     "metadata": {},
     "output_type": "execute_result"
    }
   ],
   "source": [
    "cv_scores_mean2=[]\n",
    "cv_scores_std2=[]\n",
    "\n",
    "for regul_param in regul_param_range:\n",
    "    # Aumentamos el parámetro max_iter hasta que converja\n",
    "    mlp=MLPRegressor(hidden_layer_sizes=(100,100), activation='relu', solver='adam', alpha=regul_param, batch_size=100, \n",
    "             learning_rate='constant', learning_rate_init=0.001, max_iter=500, random_state=RANDOM_STATE)\n",
    "    \n",
    "    # El error es neg_mean_squared_error el MSE en negativo!! Más pequeño peor.\n",
    "    scores = cross_val_score(mlp, desc_scaled, price_scaled.ravel(), cv=5, scoring='neg_mean_squared_error')\n",
    "    \n",
    "    cv_scores_mean2.append(scores.mean())\n",
    "    cv_scores_std2.append(scores.std())\n",
    "\n",
    "cv_scores_mean2, cv_scores_std2"
   ]
  },
  {
   "cell_type": "code",
   "execution_count": 12,
   "metadata": {},
   "outputs": [
    {
     "data": {
      "image/png": "[encoded data removed]",
      "text/plain": [
       "<Figure size 432x288 with 1 Axes>"
      ]
     },
     "metadata": {
      "needs_background": "light"
     },
     "output_type": "display_data"
    }
   ],
   "source": [
    "# Dibujamos la línea de la exactitud media en las partes de test\n",
    "plt.plot(np.log10(regul_param_range), cv_scores_mean2, color=\"b\", label=\"Test2\")\n",
    "\n",
    "# Dibujamos la banda de la desviación típica\n",
    "lower_limit = np.array(cv_scores_mean2) - np.array(cv_scores_std2)\n",
    "upper_limit = np.array(cv_scores_mean2) + np.array(cv_scores_std2)\n",
    "plt.fill_between(np.log10(regul_param_range), lower_limit, upper_limit, color=\"#DDDDDD\")\n",
    "\n",
    "# Creamos el gráfico\n",
    "plt.title(\"Curva de aprendizaje\")\n",
    "plt.xlabel(\"Regularización 10^{-X}\"), plt.ylabel(\"negative MSE\"), plt.legend(loc=\"best\")\n",
    "plt.tight_layout()\n",
    "plt.show()"
   ]
  },
  {
   "cell_type": "code",
   "execution_count": 13,
   "metadata": {},
   "outputs": [
    {
     "data": {
      "image/png": "[encoded data removed]",
      "text/plain": [
       "<Figure size 432x288 with 1 Axes>"
      ]
     },
     "metadata": {
      "needs_background": "light"
     },
     "output_type": "display_data"
    }
   ],
   "source": [
    "plt.plot(np.log10(regul_param_range), cv_scores_mean1, color=\"g\", label=\"Test1\")\n",
    "plt.plot(np.log10(regul_param_range), cv_scores_mean2, color=\"b\", label=\"Test2\")\n",
    "plt.title(\"Curva de aprendizaje\")\n",
    "plt.xlabel(\"Regularización 10^{-X}\"), plt.ylabel(\"negative MSE\"), plt.legend(loc=\"best\")\n",
    "plt.tight_layout()\n",
    "plt.show()"
   ]
  },
  {
   "cell_type": "markdown",
   "metadata": {},
   "source": [
    "#### La segunda red  domina a la primera (el error se mantiene menor para la totalidad de parámetros de regulación). Además, el valor óptimo (el más cercano a cero)  parece ser  $\\alpha=10^{-5}$. Es probable que sea porque "
   ]
  },
  {
   "cell_type": "markdown",
   "metadata": {},
   "source": [
    "## 5) Medición del error\n",
    "\n",
    "Elige la mejor configuración del apartado anterior y usa la función `cross_val_predict` para realizar una predicción del valor de todos los establecimientos usando validación cruzada. ¿Cuál es el error medio del modelo en euros? ¿Crees que el modelo es suficientemente bueno?\n",
    "\n",
    "Pinta la distribución del error en euros y el diagrama de dispersión de la predicción frente al valor real. ¿El modelo comete los mismos tipos de errores en establecimientos de distintos precios? ¿Por qué crees que se producen esos errores?"
   ]
  },
  {
   "cell_type": "code",
   "execution_count": 29,
   "metadata": {},
   "outputs": [],
   "source": [
    "from sklearn.model_selection import cross_val_predict\n",
    "\n",
    "# Creamos el clasificador\n",
    "mlp = MLPRegressor(hidden_layer_sizes=(100,100), activation='relu', solver='adam', alpha=10.0 ** (-5), batch_size=100, \n",
    "             learning_rate='constant', learning_rate_init=0.001, max_iter=500, random_state=333)\n",
    "    \n",
    "# estimamos \n",
    "predicts_scaled = cross_val_predict(mlp, desc_scaled, price_scaled.ravel(), cv=10)\n",
    "\n",
    "# desescalamos las predicciones para que estén en la escala original\n",
    "predicts=scalerPrice.inverse_transform(predicts_scaled.reshape(1, -1))"
   ]
  },
  {
   "cell_type": "code",
   "execution_count": 47,
   "metadata": {},
   "outputs": [
    {
     "name": "stdout",
     "output_type": "stream",
     "text": [
      "Error medio (€): 31.99620306888545\n",
      "Desviación típica (€): 32.5780410688307\n",
      "Error medio en %: 24.60294949008528\n",
      "RMSE (€) 45.66273941309007\n"
     ]
    }
   ],
   "source": [
    "errors = np.abs(dfPrice.values.ravel()- predicts.ravel()) # error en cada ejemplo\n",
    "mean_error = np.mean(errors) \n",
    "std_error = np.std(errors)\n",
    "mean_price = np.mean(df['price'])\n",
    "error_squared = list(map(lambda num: num ** 2, errors))\n",
    "rmse = np.sqrt(sum(error_squared) / len (error_squared))\n",
    "\n",
    "print('Error medio (€):', mean_error)\n",
    "print('Desviación típica (€):', std_error)\n",
    "print('Error medio en %:', mean_error/mean_price*100)\n",
    "print('RMSE (€)', rmse)"
   ]
  },
  {
   "cell_type": "markdown",
   "metadata": {},
   "source": [
    "#### El error medio es de casi 32€, siendo este en porcentaje un 24.6% con respecto al precio medio. Esto nos indica que las predicciones no son muy buenas ya que pueden llegar a distar bastante del precio real."
   ]
  },
  {
   "cell_type": "code",
   "execution_count": 44,
   "metadata": {},
   "outputs": [
    {
     "data": {
      "image/png": "[encoded data removed]",
      "text/plain": [
       "<Figure size 432x288 with 1 Axes>"
      ]
     },
     "metadata": {
      "needs_background": "light"
     },
     "output_type": "display_data"
    }
   ],
   "source": [
    "# Dibujamos el histograma de los errores\n",
    "fig1 = plt.figure()\n",
    "ax1 = plt.axes()\n",
    "ax1.hist(errors)\n",
    "\n",
    "plt.title('Distribución del error en valor absoluto')\n",
    "plt.show()"
   ]
  },
  {
   "cell_type": "code",
   "execution_count": 49,
   "metadata": {},
   "outputs": [
    {
     "data": {
      "image/png": "[encoded data removed]",
      "text/plain": [
       "<Figure size 432x288 with 1 Axes>"
      ]
     },
     "metadata": {
      "needs_background": "light"
     },
     "output_type": "display_data"
    }
   ],
   "source": [
    "fig2 = plt.figure()\n",
    "ax2 = plt.axes()\n",
    "\n",
    "# dibujamos los errores: la distancia a la recta indica el nivel de error\n",
    "ax2.scatter(dfPrice.values.ravel(), predicts.ravel()) \n",
    "# Pintamos la referencia de la predicción perfecta\n",
    "ax2.plot(dfPrice.values.ravel(), dfPrice.values.ravel(), color='k') \n",
    "\n",
    "plt.title('Y Vs Y_pred')\n",
    "plt.show()"
   ]
  },
  {
   "cell_type": "markdown",
   "metadata": {},
   "source": [
    "#### Se observa que en la mayoría de los casos el error es menor a 50 € y por lo tanto podría llegar a ser asumible pero el modelo falla en predecir el precio de las viviendas en la franja de precios superior. Esto puede ser debido a un menor número de ejemplares en el conjunto de entrenamiento en ese intervalo."
   ]
  }
 ],
 "metadata": {
  "kernelspec": {
   "display_name": "Python 3",
   "language": "python",
   "name": "python3"
  },
  "language_info": {
   "codemirror_mode": {
    "name": "ipython",
    "version": 3
   },
   "file_extension": ".py",
   "mimetype": "text/x-python",
   "name": "python",
   "nbconvert_exporter": "python",
   "pygments_lexer": "ipython3",
   "version": "3.8.5"
  }
 },
 "nbformat": 4,
 "nbformat_minor": 5
}
